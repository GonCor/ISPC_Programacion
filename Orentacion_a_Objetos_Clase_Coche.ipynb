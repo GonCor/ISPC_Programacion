{
  "nbformat": 4,
  "nbformat_minor": 0,
  "metadata": {
    "colab": {
      "provenance": [],
      "authorship_tag": "ABX9TyN1cEXB16/lQesKiSxpr+Dj",
      "include_colab_link": true
    },
    "kernelspec": {
      "name": "python3",
      "display_name": "Python 3"
    },
    "language_info": {
      "name": "python"
    }
  },
  "cells": [
    {
      "cell_type": "markdown",
      "metadata": {
        "id": "view-in-github",
        "colab_type": "text"
      },
      "source": [
        "<a href=\"https://colab.research.google.com/github/GonCor/ISPC_Programacion/blob/main/Orentacion_a_Objetos_Clase_Coche.ipynb\" target=\"_parent\"><img src=\"https://colab.research.google.com/assets/colab-badge.svg\" alt=\"Open In Colab\"/></a>"
      ]
    },
    {
      "cell_type": "code",
      "execution_count": 5,
      "metadata": {
        "colab": {
          "base_uri": "https://localhost:8080/"
        },
        "id": "BB_wDCrxH_0a",
        "outputId": "9927199e-3927-4d9b-d427-66ab5b23667e"
      },
      "outputs": [
        {
          "output_type": "stream",
          "name": "stdout",
          "text": [
            "El coche está en marcha\n",
            "***********************Agregamos otro coche************************\n",
            "El coche está parado\n"
          ]
        }
      ],
      "source": [
        "class Coche():\n",
        "\n",
        "\tdef __init__(self):\n",
        "\t\tself.largoChasis=380\n",
        "\t\tself.anchoChasis=170\n",
        "\t\tself.ruedas=4\n",
        "\t\tself.enmarcha= False\n",
        "\n",
        "\tdef arrancar(self, arrancando):\n",
        "\t\tself.enmarcha= arrancando\n",
        "\n",
        "\tdef estado(self):\n",
        "\t\tif self.enmarcha:\n",
        "\t\t\treturn \"El coche está en marcha\"\n",
        "\t\telse:\n",
        "\t\t\treturn \"El coche está parado\"\n",
        "\n",
        "\n",
        "miCoche=Coche()\n",
        "(miCoche.arrancar(True))\n",
        "print(miCoche.estado())\n",
        "\n",
        "print(\"***********************Agregamos otro coche************************\")\n",
        "\n",
        "\n",
        "miCoche2=Coche()\n",
        "\n",
        "print(miCoche2.estado())"
      ]
    }
  ]
}