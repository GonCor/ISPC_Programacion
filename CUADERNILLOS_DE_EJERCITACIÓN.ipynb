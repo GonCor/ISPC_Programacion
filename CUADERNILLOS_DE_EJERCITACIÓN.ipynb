{
  "nbformat": 4,
  "nbformat_minor": 0,
  "metadata": {
    "colab": {
      "provenance": [],
      "authorship_tag": "ABX9TyOUeDfXwmqJPiiLTyNBlatt",
      "include_colab_link": true
    },
    "kernelspec": {
      "name": "python3",
      "display_name": "Python 3"
    },
    "language_info": {
      "name": "python"
    }
  },
  "cells": [
    {
      "cell_type": "markdown",
      "metadata": {
        "id": "view-in-github",
        "colab_type": "text"
      },
      "source": [
        "<a href=\"https://colab.research.google.com/github/GonCor/ISPC_Programacion/blob/main/CUADERNILLOS_DE_EJERCITACI%C3%93N.ipynb\" target=\"_parent\"><img src=\"https://colab.research.google.com/assets/colab-badge.svg\" alt=\"Open In Colab\"/></a>"
      ]
    },
    {
      "cell_type": "markdown",
      "source": [
        "CUADERNILLOS DE EJERCITACIÓN\n",
        "Ejercicio Programación estructurada y modular:\n",
        "Realice un programa que muestre el mensaje “Hola Aula X (Indicar el número de aula a la que pertenecen), ¿Qué tal?” en tres veces intercambiados entre ellos otro mensajes a su elección.\n",
        "A partir del siguiente ejemplo “Hola Ana, ¿Qué tal?” realizar el programa la ejecución del mismo con al menos otros dos nombres más, es decir, tres mensajes con tres nombres distintos. Recuerda: en estos ejercicios trabajamos argumentos.\n",
        "Realizar un programa de funciones que contengan 3 parámetros, el cual derive en una suma. Mostrar el resultado dos veces.\n",
        "Realice un programa que lea dos números (dos parámetros), compare si son IGUALES, en ese caso, mostrar un mensaje que muestre TRUE.\n",
        "Realice un programa que contenga una función que se llame “sumayresta”, que la misma contenga dos variables locales nombradas suma y resta, respectivamente. Recuerda: en estos ejercicios trabajamos argumentos para este ejercicio sería dos."
      ],
      "metadata": {
        "id": "-bYE5n1B7nLp"
      }
    },
    {
      "cell_type": "code",
      "source": [
        "###Ejercicio Programación estructurada y modular:\n",
        "###Realice un programa que muestre el mensaje “Hola Aula X\n",
        "###(Indicar el número de aula a la que pertenecen), ¿Qué tal?” en tres veces intercambiados entre ellos otro mensajes a su elección.\n",
        "import random\n",
        "\n",
        "def saludar(x):\n",
        "  print(f'Hola Aula  {x}')\n",
        "\n",
        "aula= random.randint(1,10)\n",
        "saludar(aula)"
      ],
      "metadata": {
        "colab": {
          "base_uri": "https://localhost:8080/"
        },
        "id": "3ZBR_nxAY19y",
        "outputId": "41105e8b-af23-4520-992c-0ba5187359db"
      },
      "execution_count": 5,
      "outputs": [
        {
          "output_type": "stream",
          "name": "stdout",
          "text": [
            "Hola Aula  5\n"
          ]
        }
      ]
    },
    {
      "cell_type": "code",
      "source": [],
      "metadata": {
        "id": "DFeIZaIiZLGY"
      },
      "execution_count": null,
      "outputs": []
    },
    {
      "cell_type": "code",
      "source": [
        "def intercambiar_mensajes():\n",
        "  aula = random.randint(1, 10)\n",
        "  saludar(aula)\n",
        "  print(\"¡Hola, buenos días!\")\n",
        "  print(\"¿Cómo están todos?\")\n",
        "  print(\"Espero que estén teniendo un buen día.\")\n",
        "\n",
        "\n",
        "def saludar(x):\n",
        "  print(f\"Hola Aula {x}, ¿Qué tal?\")\n",
        "\n",
        "for _ in range(3):\n",
        "  intercambiar_mensajes()\n",
        "  print(\"-----------------------------------\")"
      ],
      "metadata": {
        "colab": {
          "base_uri": "https://localhost:8080/"
        },
        "id": "lsXtptGZaxLY",
        "outputId": "b13de447-7123-4ec5-dbf4-2a8ce914601c"
      },
      "execution_count": 8,
      "outputs": [
        {
          "output_type": "stream",
          "name": "stdout",
          "text": [
            "Hola Aula 6, ¿Qué tal?\n",
            "¡Hola, buenos días!\n",
            "¿Cómo están todos?\n",
            "Espero que estén teniendo un buen día.\n",
            "-----------------------------------\n",
            "Hola Aula 7, ¿Qué tal?\n",
            "¡Hola, buenos días!\n",
            "¿Cómo están todos?\n",
            "Espero que estén teniendo un buen día.\n",
            "-----------------------------------\n",
            "Hola Aula 9, ¿Qué tal?\n",
            "¡Hola, buenos días!\n",
            "¿Cómo están todos?\n",
            "Espero que estén teniendo un buen día.\n",
            "-----------------------------------\n"
          ]
        }
      ]
    },
    {
      "cell_type": "code",
      "source": [
        "### A partir del siguiente ejemplo “Hola Ana, ¿Qué tal?”\n",
        "###realizar el programa la ejecución del mismo con al menos otros dos nombres más,\n",
        "###es decir, tres mensajes con tres nombres distintos.\n",
        "###Recuerda: en estos ejercicios trabajamos argumentos"
      ],
      "metadata": {
        "id": "L8VuwF7IbXAP"
      },
      "execution_count": null,
      "outputs": []
    },
    {
      "cell_type": "code",
      "source": [
        "nombres=['Ana','Jorgelina', 'Jimena', 'Nadia']\n",
        "\n",
        "def saludar_fila(fila):\n",
        "  for nombre in nombres:\n",
        "    print(f'“Hola {nombre}, ¿Qué tal?”' )\n",
        "    print('---------------------------')\n",
        "\n",
        "saludar_fila(nombres)\n",
        "\n"
      ],
      "metadata": {
        "colab": {
          "base_uri": "https://localhost:8080/"
        },
        "id": "L5bB6LOXbtAu",
        "outputId": "40c1d5c4-9bc2-4a3e-b492-d88371071188"
      },
      "execution_count": 9,
      "outputs": [
        {
          "output_type": "stream",
          "name": "stdout",
          "text": [
            "“Hola Ana, ¿Qué tal?”\n",
            "---------------------------\n",
            "“Hola Jorgelina, ¿Qué tal?”\n",
            "---------------------------\n",
            "“Hola Jimena, ¿Qué tal?”\n",
            "---------------------------\n",
            "“Hola Nadia, ¿Qué tal?”\n",
            "---------------------------\n"
          ]
        }
      ]
    },
    {
      "cell_type": "code",
      "source": [
        "###Realizar un programa de funciones que contengan 3 parámetros, el cual derive en una suma. Mostrar el resultado dos veces.\n",
        "import random\n",
        "\n",
        "def suma(a,b,c):\n",
        "  resultado=a+b+c\n",
        "  for i in range(2):\n",
        "    print(f'El resultado de la suma de los tres paramatros es {resultado}')\n",
        "    print('----------------------------------------------------------------')\n",
        "  return resultado\n",
        "\n",
        "a=random.randint(1,1000)\n",
        "b=random.randint(1,1000)\n",
        "c=random.randint(1,1000)\n",
        "\n",
        "suma(a,b,c)\n"
      ],
      "metadata": {
        "colab": {
          "base_uri": "https://localhost:8080/"
        },
        "id": "k5FXvmHAdAoV",
        "outputId": "06e0b63a-1f09-4a0b-d351-7a8a60b27bb4"
      },
      "execution_count": 14,
      "outputs": [
        {
          "output_type": "stream",
          "name": "stdout",
          "text": [
            "El resultado de la suma de los tres paramatros es 1911\n",
            "----------------------------------------------------------------\n",
            "El resultado de la suma de los tres paramatros es 1911\n",
            "----------------------------------------------------------------\n"
          ]
        },
        {
          "output_type": "execute_result",
          "data": {
            "text/plain": [
              "1911"
            ]
          },
          "metadata": {},
          "execution_count": 14
        }
      ]
    },
    {
      "cell_type": "code",
      "source": [
        "###Realice un programa que lea dos números (dos parámetros),\n",
        "###compare si son IGUALES, en ese caso, mostrar un mensaje que muestre TRUE\n",
        "import random\n",
        "def son_iguales(a,b):\n",
        "  if a == b:\n",
        "    print ('TRUE')\n",
        "  else:\n",
        "    print(f'a es {a} y es distinto de b que es {b}')\n",
        "\n",
        "a=random.randint(1,10)\n",
        "b=random.randint(1,10)\n",
        "\n",
        "son_iguales(a,b)"
      ],
      "metadata": {
        "colab": {
          "base_uri": "https://localhost:8080/"
        },
        "id": "-bcth94mfQH7",
        "outputId": "126d89ec-173f-459f-a72a-ff76e916e9a4"
      },
      "execution_count": 96,
      "outputs": [
        {
          "output_type": "stream",
          "name": "stdout",
          "text": [
            "TRUE\n"
          ]
        }
      ]
    },
    {
      "cell_type": "code",
      "source": [
        "###Realice un programa que contenga una función que se llame “sumayresta”,\n",
        "###que la misma contenga dos variables locales nombradas suma y resta, respectivamente.\n",
        "### Recuerda: en estos ejercicios trabajamos argumentos para este ejercicio sería dos.\n",
        "\n",
        "def sumayresta(n1, n2):\n",
        "    suma = n1 + n2\n",
        "    resta = n1 - n2\n",
        "    return suma, resta\n",
        "\n",
        "numero_1 = 10\n",
        "numero_2 = 5\n",
        "\n",
        "resultado_suma, resultado_resta = sumayresta(numero_1, numero_2)\n",
        "\n",
        "print(\"La suma es:\", resultado_suma)\n",
        "print(\"La resta es:\", resultado_resta)\n"
      ],
      "metadata": {
        "colab": {
          "base_uri": "https://localhost:8080/"
        },
        "id": "BI7QNmI-gmpT",
        "outputId": "c89fb784-4ae8-492b-ca8d-e5560fa2dc83"
      },
      "execution_count": 101,
      "outputs": [
        {
          "output_type": "stream",
          "name": "stdout",
          "text": [
            "La suma es: 15\n",
            "La resta es: 5\n"
          ]
        }
      ]
    }
  ]
}