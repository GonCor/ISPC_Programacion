{
  "nbformat": 4,
  "nbformat_minor": 0,
  "metadata": {
    "colab": {
      "provenance": [],
      "authorship_tag": "ABX9TyNKj0MZ9KpEyPx65Xch+k7A",
      "include_colab_link": true
    },
    "kernelspec": {
      "name": "python3",
      "display_name": "Python 3"
    },
    "language_info": {
      "name": "python"
    }
  },
  "cells": [
    {
      "cell_type": "markdown",
      "metadata": {
        "id": "view-in-github",
        "colab_type": "text"
      },
      "source": [
        "<a href=\"https://colab.research.google.com/github/GonCor/ISPC_Programacion/blob/main/Ejercicio_estructura_condicional_simple_.ipynb\" target=\"_parent\"><img src=\"https://colab.research.google.com/assets/colab-badge.svg\" alt=\"Open In Colab\"/></a>"
      ]
    },
    {
      "cell_type": "markdown",
      "source": [],
      "metadata": {
        "id": "VlLpD6kWOQds"
      }
    },
    {
      "cell_type": "markdown",
      "source": [
        "Ejercicio estructura condicional simple:\n",
        "1. Realice un programa que solicite dos letras ingresadas por el usuario y\n",
        "verifique si son iguales o no, mostrando un mensaje.\n",
        "2. Hacer un programa que permita decidir si dos palabras son iguales o\n",
        "diferentes. Mostrar mensaje por pantalla.\n",
        "3. Realizar un programa que permita ingresar “f” o “m” y determinar si vota\n",
        "en mesa femenina o masculina.\n",
        "4. Realice un programa que lea dos números y diga cuál es el mayor.\n",
        "5. Realice un programa que cambie pesos a dólares. Mejórelo, añadiendo\n",
        "el cambio de dólares a pesos y que sea el usuario quién decida qué tipo\n",
        "de cambio quiere, si de dólares a pesos o viceversa.\n",
        "6. Realice un programa donde el usuario ingrese su edad. Si es mayor de\n",
        "16 años, muestre un mensaje diciendo “puede votar”, sino “no vota”.\n",
        "\n",
        "Ejercicios estructura condicional compuesto (IF anidados)\n",
        "1. Introducir los lados de un triángulo y visualizar por pantalla si dicho\n",
        "triángulo es equilátero, isósceles o escaleno.\n",
        "2. Realice un programa que le permita al usuario simular el pago\n",
        "ingresando el importe y la forma de pago:\n",
        "• Contado (1): se aplica un descuento del 10% al importe\n",
        "• Tarjeta (2): se aplica un interés de 10%\n",
        "• Débito (3): se aplica un descuento del 5%\n",
        "Mostrar el importe, el descuento o interés y el importe total.\n",
        "3. Realice un programa que lea tres números, muestre cuál es el mayor y\n",
        "determine si es par o impar.\n",
        "4. Confeccione un programa que pida un número del 1 al 7 y diga el día de\n",
        "la semana correspondiente.\n",
        "5. Realice un programa que pida un número del 1 al 12 y diga el nombre\n",
        "del mes correspondiente."
      ],
      "metadata": {
        "id": "4MR0DHrPOSa0"
      }
    },
    {
      "cell_type": "code",
      "source": [
        "#Ejercicio estructura condicional simple:\n",
        "#1. Realice un programa que solicite dos letras ingresadas por el usuario y\n",
        "#verifique si son iguales o no, mostrando un mensaje.\n",
        "\n",
        "ingreso = input(\"Ingrese dos letras: \")\n",
        "while len(ingreso) != 2:\n",
        "    ingreso = input(\"Ingrese nuevamente dos letras: \")\n",
        "letra1 = ingreso[0]\n",
        "letra2 = ingreso[1]\n",
        "\n",
        "if letra1 == letra2:\n",
        "    print('Las letras ingresadas son iguales.')\n",
        "else:\n",
        "    print('Las letras ingresadas son distintas.') \n"
      ],
      "metadata": {
        "colab": {
          "base_uri": "https://localhost:8080/"
        },
        "id": "CKOAD49ZOPuf",
        "outputId": "c54da05f-d1cd-4a12-a769-0c95688ffb54"
      },
      "execution_count": 2,
      "outputs": [
        {
          "output_type": "stream",
          "name": "stdout",
          "text": [
            "Ingrese dos letrasf g \n",
            "Las letras ingresadas son distintas\n"
          ]
        }
      ]
    },
    {
      "cell_type": "code",
      "source": [
        "\n",
        "#Hacer un programa que permita decidir si dos palabras son iguales o\n",
        "#diferentes. Mostrar mensaje por pantalla.\n",
        "\n",
        "ingreso=input(\"Ingrese dos letras\")\n",
        "letras=ingreso.split()\n",
        "while len(letras)!=2:\n",
        "  ingreso=input(\"Ingresenuevamente dos letras\")\n",
        "  letras=ingreso.split()\n",
        "if letras[0] == letras[1]:\n",
        "  print(f'Las letras ingresadas son las mismas')\n",
        "else:\n",
        "  print(f'Las letras ingresadas son distintas')  "
      ],
      "metadata": {
        "id": "Eve_WMAdVBbV"
      },
      "execution_count": null,
      "outputs": []
    },
    {
      "cell_type": "code",
      "source": [
        "#Realizar un programa que permita ingresar “f” o “m” y determinar si vota\n",
        "#en mesa femenina o masculina."
      ],
      "metadata": {
        "id": "o7zNkHx1OPAm"
      },
      "execution_count": null,
      "outputs": []
    },
    {
      "cell_type": "code",
      "source": [
        "seleccion=input(str(\"Ingrese 'f' o 'm' para determinar si vota en una mesa femenina o masculina \"))\n",
        "seleccion=seleccion.lower()\n",
        "while seleccion !='f' and seleccion !='m':\n",
        "  seleccion=input(str(\"Ingrese nuevemente 'f' o 'm' para determinar si vota en una mesa femenina o masculina \"))\n",
        "  seleccion=seleccion.lower()\n",
        "if seleccion == 'f':\n",
        "  print(f'Usted vota en la mesa femenina')\n",
        "else:\n",
        "  print(f'Usted vota en la mesa masculina')\n"
      ],
      "metadata": {
        "colab": {
          "base_uri": "https://localhost:8080/"
        },
        "id": "ANBBdsd4uXsJ",
        "outputId": "debc3c30-f714-4a91-f631-8b1870ceded1"
      },
      "execution_count": 12,
      "outputs": [
        {
          "output_type": "stream",
          "name": "stdout",
          "text": [
            "Ingrese 'f' o 'm' para determinar si vota en una mesa femenina o masculina j\n",
            "Ingrese nuevemente 'f' o 'm' para determinar si vota en una mesa femenina o masculina m\n",
            "Usted vota en la mesa masculina\n"
          ]
        }
      ]
    },
    {
      "cell_type": "code",
      "source": [
        "#4. Realice un programa que lea dos números y diga cuál es el mayor.\n",
        "\n",
        "numero1=int(input(\"Ingrese un numero \"))\n",
        "numero2=int(input(\"Ingrese un numero \"))\n",
        "if numero1 > numero2:\n",
        "  print(f'El primer numero ingresado es mayor al segundo numero ingresado')\n",
        "elif numero1 < numero2:\n",
        "  print(f'El segundo numero ingresado es mayor al primer numero ingresado')  \n",
        "else:\n",
        "   print(f'El primer numero ingresado es igual al segundo numero ingresado')   "
      ],
      "metadata": {
        "colab": {
          "base_uri": "https://localhost:8080/"
        },
        "id": "-sP4wpn52fh3",
        "outputId": "241af0f5-52e3-4e74-c02f-4f53d2c13567"
      },
      "execution_count": 15,
      "outputs": [
        {
          "output_type": "stream",
          "name": "stdout",
          "text": [
            "Ingrese un numero3\n",
            "Ingrese un numero4\n",
            "El segundo numero ingresado es mayor al primer numero ingresado\n"
          ]
        }
      ]
    },
    {
      "cell_type": "code",
      "source": [
        "#Realice un programa que cambie pesos a dólares. Mejórelo, añadiendo\n",
        "#el cambio de dólares a pesos y que sea el usuario quién decida qué tipo\n",
        "#de cambio quiere, si de dólares a pesos o viceversa."
      ],
      "metadata": {
        "id": "9kCiVJG_4RBv"
      },
      "execution_count": 35,
      "outputs": []
    },
    {
      "cell_type": "code",
      "source": [
        "\n",
        "usdVendedor=495\n",
        "usdComprador=485\n",
        "\n",
        "seleccion = int(input('Seleccione 1 para vender pesos a dólares, o ingrese 2 para vender dólares a pesos: '))\n",
        "while seleccion != 1 and seleccion != 2:\n",
        "   seleccion = int(input('Seleccione nuevamente 1 para vender pesos a dólares, o ingrese 2 para vender dólares a pesos: '))\n",
        "\n",
        "if seleccion == 1:\n",
        "  dolaresAEntregar=int(input('Ingrese cuantos pesos va a vender '))\n",
        "  dolaresAEntregar=dolaresAEntregar/usdVendedor\n",
        "  print(f'Le corresponde {dolaresAEntregar} USD')\n",
        "else:\n",
        "  pesosAEntregar=int(input('Ingrese cuantos Dolares va a vender '))\n",
        "  pesosAEntregar=pesosAEntregar*usdComprador\n",
        "  print(f'Le corresponde {pesosAEntregar} pesos')\n"
      ],
      "metadata": {
        "colab": {
          "base_uri": "https://localhost:8080/"
        },
        "id": "WLxOyG3LBtjO",
        "outputId": "22189a76-f25a-4494-c40b-4daad65b5b8e"
      },
      "execution_count": 41,
      "outputs": [
        {
          "output_type": "stream",
          "name": "stdout",
          "text": [
            "Seleccione 1 para vender pesos a dólares, o ingrese 2 para vender dólares a pesos: 8\n",
            "Seleccione nuevamente 1 para vender pesos a dólares, o ingrese 2 para vender dólares a pesos: 2\n",
            "Ingrese cuantos Dolares va a vender8222\n",
            "Le corresponde 3987670 pesos\n"
          ]
        }
      ]
    },
    {
      "cell_type": "code",
      "source": [
        "\n",
        "#Realice un programa donde el usuario ingrese su edad. Si es mayor de\n",
        "#16 años, muestre un mensaje diciendo “puede votar”, sino “no vota”."
      ],
      "metadata": {
        "id": "XEjXDkQ3GQxO"
      },
      "execution_count": null,
      "outputs": []
    },
    {
      "cell_type": "code",
      "source": [
        "edad = int(input(\"Ingrese su edad: \"))\n",
        "\n",
        "if edad > 16:\n",
        "    print(\"Puede votar.\")\n",
        "else:\n",
        "    print(\"No vota.\")"
      ],
      "metadata": {
        "id": "JXnhbIvaGa2n"
      },
      "execution_count": null,
      "outputs": []
    },
    {
      "cell_type": "code",
      "source": [
        "#Ejercicios estructura condicional compuesto (IF anidados)\n",
        "#Introducir los lados de un triángulo y visualizar por pantalla si dicho\n",
        "\n",
        "lado1 = float(input(\"Ingrese el primer lado del triángulo: \"))\n",
        "lado2 = float(input(\"Ingrese el segundo lado del triángulo: \"))\n",
        "lado3 = float(input(\"Ingrese el tercer lado del triángulo: \"))\n",
        "\n",
        "if lado1 == lado2 and lado2 == lado3:\n",
        "    print(\"El triángulo es equilátero.\")\n",
        "elif lado1 == lado2 or lado1 == lado3 or lado2 == lado3:\n",
        "    print(\"El triángulo es isósceles.\")\n",
        "else:\n",
        "    print(\"El triángulo es escaleno.\")"
      ],
      "metadata": {
        "id": "x9VsclVQGj-N"
      },
      "execution_count": null,
      "outputs": []
    },
    {
      "cell_type": "code",
      "source": [
        "\"\"\"2. Realice un programa que le permita al usuario simular el pago\n",
        "ingresando el importe y la forma de pago:\n",
        "• Contado (1): se aplica un descuento del 10% al importe\n",
        "• Tarjeta (2): se aplica un interés de 10%\n",
        "• Débito (3): se aplica un descuento del 5%\n",
        "Mostrar el importe, el descuento o interés y el importe total.\"\"\"\n",
        "\n",
        "importe = float(input(\"Ingrese el importe a pagar: \"))\n",
        "forma_pago = int(input(\"Seleccione la forma de pago (1: Contado, 2: Tarjeta, 3: Débito): \"))\n",
        "\n",
        "if forma_pago == 1:\n",
        "    descuento = importe * 0.10\n",
        "    total_pagar = importe - descuento\n",
        "    print(f\"Importe: {importe} - Descuento (10%): {descuento} - Total a pagar: {total_pagar}\")\n",
        "elif forma_pago == 2:\n",
        "    interes = importe * 0.10\n",
        "    total_pagar = importe + interes\n",
        "    print(f\"Importe: {importe} + Interés (10%): {interes} - Total a pagar: {total_pagar}\")\n",
        "elif forma_pago == 3:\n",
        "    descuento = importe * 0.05\n",
        "    total_pagar = importe - descuento\n",
        "    print(f\"Importe: {importe} - Descuento (5%): {descuento} - Total a pagar: {total_pagar}\")\n",
        "else:\n",
        "    print(\"Forma de pago inválida. Por favor, seleccione 1, 2 o 3.\")\n"
      ],
      "metadata": {
        "id": "_rcUUK68G1M0"
      },
      "execution_count": null,
      "outputs": []
    },
    {
      "cell_type": "code",
      "execution_count": null,
      "metadata": {
        "id": "Fx3Mb-BiOHVF"
      },
      "outputs": [],
      "source": [
        "#Realice un programa que lea tres números, muestre cuál es el mayor y\n",
        "#determine si es par o impar.\n",
        "\n",
        "\n",
        "numero1 = int(input(\"Ingrese el primer número: \"))\n",
        "numero2 = int(input(\"Ingrese el segundo número: \"))\n",
        "numero3 = int(input(\"Ingrese el tercer número: \"))\n",
        "\n",
        "if numero1 >= numero2 and numero1 >= numero3:\n",
        "    mayor = numero1\n",
        "elif numero2 >= numero1 and numero2 >= numero3:\n",
        "    mayor = numero2\n",
        "else:\n",
        "    mayor = numero3\n",
        "\n",
        "print(f\"El número mayor es: {mayor}\")\n",
        "\n",
        "if mayor % 2 == 0:\n",
        "    print(\"El número mayor es par.\")\n",
        "else:\n",
        "    print(\"El número mayor es impar.\")\n"
      ]
    },
    {
      "cell_type": "code",
      "source": [
        "#4. Confeccione un programa que pida un número del 1 al 7 y diga el día de\n",
        "#la semana correspondiente.\n",
        "numero = int(input(\"Ingrese un número del 1 al 7: \"))\n",
        "\n",
        "if numero == 1:\n",
        "    dia_semana = \"Lunes\"\n",
        "elif numero == 2:\n",
        "    dia_semana = \"Martes\"\n",
        "elif numero == 3:\n",
        "    dia_semana = \"Miércoles\"\n",
        "elif numero == 4:\n",
        "    dia_semana = \"Jueves\"\n",
        "elif numero == 5:\n",
        "    dia_semana = \"Viernes\"\n",
        "elif numero == 6:\n",
        "    dia_semana = \"Sábado\"\n",
        "elif numero == 7:\n",
        "    dia_semana = \"Domingo\"\n",
        "else:\n",
        "    dia_semana = \"Número inválido. Debe ser del 1 al 7.\"\n",
        "\n",
        "print(f\"El día de la semana correspondiente al número {numero} es: {dia_semana}\")\n"
      ],
      "metadata": {
        "id": "hF66DlmBHF3l"
      },
      "execution_count": null,
      "outputs": []
    },
    {
      "cell_type": "code",
      "source": [
        "\n",
        "#Realice un programa que pida un número del 1 al 12 y diga el nombre\n",
        "#del mes correspondiente.\n",
        "numero = int(input(\"Ingrese un número del 1 al 12: \"))\n",
        "\n",
        "if numero == 1:\n",
        "    mes = \"Enero\"\n",
        "elif numero == 2:\n",
        "    mes = \"Febrero\"\n",
        "elif numero == 3:\n",
        "    mes = \"Marzo\"\n",
        "elif numero == 4:\n",
        "    mes = \"Abril\"\n",
        "elif numero == 5:\n",
        "    mes = \"Mayo\"\n",
        "elif numero == 6:\n",
        "    mes = \"Junio\"\n",
        "elif numero == 7:\n",
        "    mes = \"Julio\"\n",
        "elif numero == 8:\n",
        "    mes = \"Agosto\"\n",
        "elif numero == 9:\n",
        "    mes = \"Septiembre\"\n",
        "elif numero == 10:\n",
        "    mes = \"Octubre\"\n",
        "elif numero == 11:\n",
        "    mes = \"Noviembre\"\n",
        "elif numero == 12:\n",
        "    mes = \"Diciembre\"\n",
        "else:\n",
        "    mes = \"\n"
      ],
      "metadata": {
        "id": "7Bc_wu3oHGqk"
      },
      "execution_count": null,
      "outputs": []
    }
  ]
}