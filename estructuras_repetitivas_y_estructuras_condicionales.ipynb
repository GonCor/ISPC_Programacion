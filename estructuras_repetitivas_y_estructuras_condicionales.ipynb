{
  "nbformat": 4,
  "nbformat_minor": 0,
  "metadata": {
    "colab": {
      "provenance": [],
      "authorship_tag": "ABX9TyM99QQyX4ClWJ35/DuviRu8",
      "include_colab_link": true
    },
    "kernelspec": {
      "name": "python3",
      "display_name": "Python 3"
    },
    "language_info": {
      "name": "python"
    }
  },
  "cells": [
    {
      "cell_type": "markdown",
      "metadata": {
        "id": "view-in-github",
        "colab_type": "text"
      },
      "source": [
        "<a href=\"https://colab.research.google.com/github/GonCor/ISPC_Programacion/blob/main/estructuras_repetitivas_y_estructuras_condicionales.ipynb\" target=\"_parent\"><img src=\"https://colab.research.google.com/assets/colab-badge.svg\" alt=\"Open In Colab\"/></a>"
      ]
    },
    {
      "cell_type": "markdown",
      "source": [
        "\n",
        "Ejercicios estructuras repetitivas y estructuras condicionales.\n",
        "\n"
      ],
      "metadata": {
        "id": "E5nB8fP7pALf"
      }
    },
    {
      "cell_type": "markdown",
      "source": [
        "1. Realice un programa que lea 4 números y diga cuántos son pares y\n",
        "cuantos impares y devuelva la sumatoria de los pares.\n"
      ],
      "metadata": {
        "id": "_DRtD1K8pEFF"
      }
    },
    {
      "cell_type": "code",
      "source": [
        "pares=0\n",
        "impares=0\n",
        "sumarPares=0\n",
        "n=0\n",
        "while n < 4:\n",
        "  num=int(input(\"Ingrese un numero: \"))\n",
        "  if num % 2==0:\n",
        "      pares+=1\n",
        "      sumarPares+=num\n",
        "  else:\n",
        "      impares+=1\n",
        "  n+=1\n",
        "print(f'Se han ingresado {pares} numeros pares')\n",
        "print(f'Se han ingresado {impares} numeros impares')\n",
        "print(f'La suma de los numeros pares es igual a {sumarPares}')\n",
        "\n",
        "\n"
      ],
      "metadata": {
        "colab": {
          "base_uri": "https://localhost:8080/"
        },
        "id": "ra_mYqQSpPaN",
        "outputId": "ca436feb-3962-4458-f41a-424a2b977b8c"
      },
      "execution_count": 7,
      "outputs": [
        {
          "output_type": "stream",
          "name": "stdout",
          "text": [
            "Ingrese un numero: 78\n",
            "Ingrese un numero: 48\n",
            "Ingrese un numero: 52\n",
            "Ingrese un numero: 22\n",
            "Se han ingresado 4 numeros pares\n",
            "Se han ingresado 0 numeros impares\n",
            "La suma de los numeros pares es igual a 200\n"
          ]
        }
      ]
    },
    {
      "cell_type": "markdown",
      "source": [
        "2. Leer 10 números y obtener la cantidad de mayores y la cantidad de\n",
        "menores a 100, cuál es el número máximo y cuál es el número mínimo.\n"
      ],
      "metadata": {
        "id": "KvU_z6WHpGn1"
      }
    },
    {
      "cell_type": "code",
      "source": [],
      "metadata": {
        "id": "CT3iiGwCpP8t"
      },
      "execution_count": null,
      "outputs": []
    },
    {
      "cell_type": "markdown",
      "source": [
        "3. Ingresar las edades y el sexo de 15 personas y determinar cuántas son\n",
        "mujeres, cuántos varones, cuántos mayores de edad y cuántos\n",
        "menores de edad.\n"
      ],
      "metadata": {
        "id": "HqKafQbypJj9"
      }
    },
    {
      "cell_type": "code",
      "source": [],
      "metadata": {
        "id": "7I-TmC0XpQUN"
      },
      "execution_count": null,
      "outputs": []
    },
    {
      "cell_type": "markdown",
      "source": [
        "4. Leer 10 números y mostrar solamente los números positivos, y su\n",
        "sumatoria.\n"
      ],
      "metadata": {
        "id": "1M-G0MGQpLK1"
      }
    },
    {
      "cell_type": "code",
      "execution_count": null,
      "metadata": {
        "id": "GCCJeOzso_Yo"
      },
      "outputs": [],
      "source": []
    },
    {
      "cell_type": "markdown",
      "source": [
        "5. Leer 15 números negativos y convertirlos a positivos e imprimir dichos\n",
        "números.> Bloque con sangría\n"
      ],
      "metadata": {
        "id": "VpurYaHYpMsG"
      }
    },
    {
      "cell_type": "code",
      "source": [],
      "metadata": {
        "id": "SWJXJCFbpDJf"
      },
      "execution_count": null,
      "outputs": []
    }
  ]
}