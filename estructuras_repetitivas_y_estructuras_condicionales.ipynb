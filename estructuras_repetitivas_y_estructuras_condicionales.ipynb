{
  "nbformat": 4,
  "nbformat_minor": 0,
  "metadata": {
    "colab": {
      "provenance": [],
      "authorship_tag": "ABX9TyPWKyeEqAGjYsPowqtgOHE3"
    },
    "kernelspec": {
      "name": "python3",
      "display_name": "Python 3"
    },
    "language_info": {
      "name": "python"
    }
  },
  "cells": [
    {
      "cell_type": "markdown",
      "source": [
        "\n",
        "Ejercicios estructuras repetitivas y estructuras condicionales.\n",
        "\n"
      ],
      "metadata": {
        "id": "E5nB8fP7pALf"
      }
    },
    {
      "cell_type": "markdown",
      "source": [
        "1. Realice un programa que lea 4 números y diga cuántos son pares y\n",
        "cuantos impares y devuelva la sumatoria de los pares.\n"
      ],
      "metadata": {
        "id": "_DRtD1K8pEFF"
      }
    },
    {
      "cell_type": "code",
      "source": [
        "pares=0\n",
        "impares=0\n",
        "sumarPares=0\n",
        "n=0\n",
        "while n < 4:\n",
        "  num=int(input(\"Ingrese un numero: \"))\n",
        "  if num % 2==0:\n",
        "      pares+=1\n",
        "      sumarPares+=num\n",
        "  else:\n",
        "      impares+=1\n",
        "  n+=1\n",
        "print(f'Se han ingresado {pares} numeros pares')\n",
        "print(f'Se han ingresado {impares} numeros impares')\n",
        "print(f'La suma de los numeros pares es igual a {sumarPares}')\n",
        "\n",
        "\n"
      ],
      "metadata": {
        "colab": {
          "base_uri": "https://localhost:8080/"
        },
        "id": "ra_mYqQSpPaN",
        "outputId": "ca436feb-3962-4458-f41a-424a2b977b8c"
      },
      "execution_count": 7,
      "outputs": [
        {
          "output_type": "stream",
          "name": "stdout",
          "text": [
            "Ingrese un numero: 78\n",
            "Ingrese un numero: 48\n",
            "Ingrese un numero: 52\n",
            "Ingrese un numero: 22\n",
            "Se han ingresado 4 numeros pares\n",
            "Se han ingresado 0 numeros impares\n",
            "La suma de los numeros pares es igual a 200\n"
          ]
        }
      ]
    },
    {
      "cell_type": "markdown",
      "source": [
        "2. Leer 10 números y obtener la cantidad de mayores y la cantidad de\n",
        "menores a 100, cuál es el número máximo y cuál es el número mínimo.\n"
      ],
      "metadata": {
        "id": "KvU_z6WHpGn1"
      }
    },
    {
      "cell_type": "code",
      "source": [
        "menoresCien=0\n",
        "mayoresCien=0\n",
        "numeros=0\n",
        "ingresos=[]\n",
        "n=1\n",
        "\n",
        "while n < 12:\n",
        "  num=int(input(\"Ingrese un numero: \"))\n",
        "  ingresos.append(num)\n",
        "  n +=1\n",
        "\n",
        "  if num < 100:\n",
        "    menoresCien +=1\n",
        "  else:\n",
        "    mayoresCien +=1\n",
        "\n",
        "minimo = ingresos[0]\n",
        "maximo= ingresos[0]\n",
        "\n",
        "for n in ingresos:\n",
        "  if n < minimo:\n",
        "    minimo = n        \n",
        "  if n > maximo:\n",
        "    maximo = n\n",
        "\n",
        "print(f'Los numeros ingresados fueron {ingresos} ')\n",
        "print(f'La cantidad de mayores a cien fueron {mayoresCien} y la cantidad de menores a cien fueron {menoresCien}')\n",
        "print(f'El numero maximo ingresado fue {minimo } y el minimo fue {maximo}')  \n",
        "    "
      ],
      "metadata": {
        "colab": {
          "base_uri": "https://localhost:8080/"
        },
        "id": "CT3iiGwCpP8t",
        "outputId": "57d93ef9-1484-4fd2-eff3-f3a7a8a90f45"
      },
      "execution_count": 28,
      "outputs": [
        {
          "output_type": "stream",
          "name": "stdout",
          "text": [
            "Ingrese un numero: 89\n",
            "Ingrese un numero: 54\n",
            "Ingrese un numero: 65\n",
            "Ingrese un numero: 78\n",
            "Ingrese un numero: 32\n",
            "Ingrese un numero: 12\n",
            "Ingrese un numero: 65\n",
            "Ingrese un numero: 9999\n",
            "Ingrese un numero: 4555\n",
            "Ingrese un numero: 788888\n",
            "Ingrese un numero: 65\n",
            "Los numeros ingresados fueron [89, 54, 65, 78, 32, 12, 65, 9999, 4555, 788888, 65] \n",
            "La cantidad de mayores a cien fueron 3 y la cantidad de menores a cien fueron 8\n",
            "El numero maximo ingresado fue 12 y el minimo fue 788888\n"
          ]
        }
      ]
    },
    {
      "cell_type": "markdown",
      "source": [
        "3. Ingresar las edades y el sexo de 15 personas y determinar cuántas son\n",
        "mujeres, cuántos varones, cuántos mayores de edad y cuántos\n",
        "menores de edad.\n"
      ],
      "metadata": {
        "id": "HqKafQbypJj9"
      }
    },
    {
      "cell_type": "code",
      "source": [
        "femenino=0\n",
        "masculino=0\n",
        "menoresEdad=0\n",
        "mayoresEdad=0\n",
        "\n",
        "edades=[]\n",
        "n=0\n",
        "\n",
        "while n < 15:\n",
        "  n+=1\n",
        "  seleccion=input(str(\"Ingrese 'f' o 'm' para determinar si es femenina o masculino \"))\n",
        "  seleccion=seleccion.lower()\n",
        "  while seleccion !='f' and seleccion !='m':\n",
        "      seleccion=input(str(\"Ingrese nuevemente 'f' o 'm' para determinar si vota en una mesa femenina o masculina \"))\n",
        "      seleccion=seleccion.lower()\n",
        "  if seleccion == 'f':\n",
        "    femenino+=1\n",
        "  else:\n",
        "    masculino+=1\n",
        "\n",
        "  \n",
        "  edad=int(input(\"Ingrese su edad: \"))\n",
        "  edades.append(edad)\n",
        "  \n",
        "\n",
        "  if edad >= 18:\n",
        "    mayoresEdad +=1\n",
        "  else:\n",
        "    menoresEdad +=1\n",
        "\n",
        "\n",
        "print(f'Las edades ingresados fueron {edades } ')\n",
        "print(f'La cantidad de mayores de edad fueron {mayoresEdad} y la cantidad de menores de edad fueron {menoresEdad}')\n",
        "print(f'La cantidad de mujeres es {femenino } y la cantidad de varones {masculino}')  \n",
        "    "
      ],
      "metadata": {
        "colab": {
          "base_uri": "https://localhost:8080/"
        },
        "id": "7I-TmC0XpQUN",
        "outputId": "534ef2d3-f079-4a59-f9fa-b7b13887ea99"
      },
      "execution_count": 31,
      "outputs": [
        {
          "output_type": "stream",
          "name": "stdout",
          "text": [
            "Ingrese 'f' o 'm' para determinar si es femenina o masculino f\n",
            "Ingrese su edad: 89\n",
            "Ingrese 'f' o 'm' para determinar si es femenina o masculino s\n",
            "Ingrese nuevemente 'f' o 'm' para determinar si vota en una mesa femenina o masculina f\n",
            "Ingrese su edad: 56\n",
            "Ingrese 'f' o 'm' para determinar si es femenina o masculino f\n",
            "Ingrese su edad: 54\n",
            "Ingrese 'f' o 'm' para determinar si es femenina o masculino 14\n",
            "Ingrese nuevemente 'f' o 'm' para determinar si vota en una mesa femenina o masculina 18\n",
            "Ingrese nuevemente 'f' o 'm' para determinar si vota en una mesa femenina o masculina f\n",
            "Ingrese su edad: 18\n",
            "Ingrese 'f' o 'm' para determinar si es femenina o masculino m\n",
            "Ingrese su edad: 78\n",
            "Ingrese 'f' o 'm' para determinar si es femenina o masculino m\n",
            "Ingrese su edad: 59\n",
            "Ingrese 'f' o 'm' para determinar si es femenina o masculino m\n",
            "Ingrese su edad: 2\n",
            "Ingrese 'f' o 'm' para determinar si es femenina o masculino m\n",
            "Ingrese su edad: 3\n",
            "Ingrese 'f' o 'm' para determinar si es femenina o masculino m\n",
            "Ingrese su edad: 19\n",
            "Ingrese 'f' o 'm' para determinar si es femenina o masculino f\n",
            "Ingrese su edad: 5\n",
            "Ingrese 'f' o 'm' para determinar si es femenina o masculino f\n",
            "Ingrese su edad: 98\n",
            "Ingrese 'f' o 'm' para determinar si es femenina o masculino f\n",
            "Ingrese su edad: 9\n",
            "Ingrese 'f' o 'm' para determinar si es femenina o masculino f\n",
            "Ingrese su edad: 35\n",
            "Ingrese 'f' o 'm' para determinar si es femenina o masculino m\n",
            "Ingrese su edad: 36\n",
            "Ingrese 'f' o 'm' para determinar si es femenina o masculino f\n",
            "Ingrese su edad: 18\n",
            "Las edades ingresados fueron [89, 56, 54, 18, 78, 59, 2, 3, 19, 5, 98, 9, 35, 36, 18] \n",
            "La cantidad de mayores de edad fueron 11 y la cantidad de menores de edad fueron 4\n",
            "La cantidad de mujeres es 9 y la cantidad de varones 6\n"
          ]
        }
      ]
    },
    {
      "cell_type": "markdown",
      "source": [
        "4. Leer 10 números y mostrar solamente los números positivos, y su\n",
        "sumatoria.\n"
      ],
      "metadata": {
        "id": "1M-G0MGQpLK1"
      }
    },
    {
      "cell_type": "code",
      "execution_count": 33,
      "metadata": {
        "colab": {
          "base_uri": "https://localhost:8080/"
        },
        "id": "GCCJeOzso_Yo",
        "outputId": "9fa33242-d307-4794-d016-79cc87cd4329"
      },
      "outputs": [
        {
          "output_type": "stream",
          "name": "stdout",
          "text": [
            "Ingrese un numero, positivo o negativo: -4\n",
            "Ingrese un numero, positivo o negativo: -7\n",
            "Ingrese un numero, positivo o negativo: 8\n",
            "Ingrese un numero, positivo o negativo: 98\n",
            "Ingrese un numero, positivo o negativo: 16\n",
            "Ingrese un numero, positivo o negativo: 0\n",
            "Ingrese un numero, positivo o negativo: 12\n",
            "Ingrese un numero, positivo o negativo: 43\n",
            "Ingrese un numero, positivo o negativo: 54\n",
            "Ingrese un numero, positivo o negativo: 2\n",
            "Los numeros positivos ingresados fueron [8, 98, 16, 12, 43, 54, 2] y su suma es 233\n"
          ]
        }
      ],
      "source": [
        "numeros=[]\n",
        "positivos=[]\n",
        "sumarPositivos=0\n",
        "n=0\n",
        "while n<10:\n",
        "  n+=1\n",
        "  num=int(input('Ingrese un numero, positivo o negativo: '))\n",
        "  numeros.append(num)\n",
        "\n",
        "for n in numeros:\n",
        "  if n >0:\n",
        "    positivos.append(n)\n",
        "    sumarPositivos+=n\n",
        "\n",
        "print(f'Los numeros positivos ingresados fueron {positivos} y su suma es {sumarPositivos}')"
      ]
    },
    {
      "cell_type": "markdown",
      "source": [
        "5. Leer 15 números negativos y convertirlos a positivos e imprimir dichos\n",
        "números.> Bloque con sangría\n"
      ],
      "metadata": {
        "id": "VpurYaHYpMsG"
      }
    },
    {
      "cell_type": "code",
      "source": [
        "negativos=[]\n",
        "posicion=0\n",
        "while len(negativos) < 15:\n",
        "  num=int(input(\"Ingrese un numero: \"))\n",
        "  if num < 0:\n",
        "    negativos.append(num)\n",
        "\n",
        "negativosOriginal=negativos.copy()\n",
        "for n in negativos:\n",
        "  negativos[posicion]=n*-1\n",
        "  posicion+=1\n",
        "\n",
        "print(f'La lista orignal de negativos es la siguiente {negativosOriginal} y la lista modificada es {negativos}')\n"
      ],
      "metadata": {
        "colab": {
          "base_uri": "https://localhost:8080/"
        },
        "id": "SWJXJCFbpDJf",
        "outputId": "c5079430-e07f-4773-9989-936d03e6f788"
      },
      "execution_count": 36,
      "outputs": [
        {
          "output_type": "stream",
          "name": "stdout",
          "text": [
            "Ingrese un numero: 5\n",
            "Ingrese un numero: -4\n",
            "Ingrese un numero: -7\n",
            "Ingrese un numero: -6\n",
            "Ingrese un numero: -98\n",
            "Ingrese un numero: -87\n",
            "Ingrese un numero: -3\n",
            "Ingrese un numero: -65\n",
            "Ingrese un numero: -76\n",
            "Ingrese un numero: -12\n",
            "Ingrese un numero: -32\n",
            "Ingrese un numero: 4\n",
            "Ingrese un numero: -43\n",
            "Ingrese un numero: -54\n",
            "Ingrese un numero: -65\n",
            "Ingrese un numero: -76\n",
            "Ingrese un numero: -87\n",
            "La lista orignal de negativos es la siguiente [-4, -7, -6, -98, -87, -3, -65, -76, -12, -32, -43, -54, -65, -76, -87] y la lista modificada es [4, 7, 6, 98, 87, 3, 65, 76, 12, 32, 43, 54, 65, 76, 87]\n"
          ]
        }
      ]
    }
  ]
}