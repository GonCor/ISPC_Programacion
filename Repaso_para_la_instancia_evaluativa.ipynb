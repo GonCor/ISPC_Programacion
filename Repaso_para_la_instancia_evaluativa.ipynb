{
  "nbformat": 4,
  "nbformat_minor": 0,
  "metadata": {
    "colab": {
      "provenance": [],
      "authorship_tag": "ABX9TyOPy7hSBxLe9hdxkuCJo9v6",
      "include_colab_link": true
    },
    "kernelspec": {
      "name": "python3",
      "display_name": "Python 3"
    },
    "language_info": {
      "name": "python"
    }
  },
  "cells": [
    {
      "cell_type": "markdown",
      "metadata": {
        "id": "view-in-github",
        "colab_type": "text"
      },
      "source": [
        "<a href=\"https://colab.research.google.com/github/GonCor/ISPC_Programacion/blob/main/Repaso_para_la_instancia_evaluativa.ipynb\" target=\"_parent\"><img src=\"https://colab.research.google.com/assets/colab-badge.svg\" alt=\"Open In Colab\"/></a>"
      ]
    },
    {
      "cell_type": "code",
      "execution_count": null,
      "metadata": {
        "id": "IYu9Mxi4rhXZ"
      },
      "outputs": [],
      "source": []
    },
    {
      "cell_type": "markdown",
      "source": [
        "Realice un programa que contengan funciones de los tres tipos de triángulos. Los mismos deben estar acompañados de los mensajes respecto a la función decoradora.   Para mejorarlo pueden agregar los nombres de cada función según los triángulos.\n",
        "Realizar un programa de funciones que contengan funciones con bucles y control de flujo fuera de la función decoradora. Al menos se deben tener dos condicionales o bucles.\n",
        "Escribir una función que calcule el total de una factura tras aplicarle el IVA. La función debe recibir la cantidad sin IVA y el porcentaje de IVA a aplicar, y devolver el total de la factura. Si se invoca la función sin pasarle el porcentaje de IVA, deberá aplicar un 21%.\n",
        "Escribir una función que convierta un número decimal en los otros dos sistemas: Binario y Hexadecimal. Mostrar mensajes pertenecientes a cada función.\n"
      ],
      "metadata": {
        "id": "K888KtX1rpW6"
      }
    },
    {
      "cell_type": "code",
      "source": [],
      "metadata": {
        "id": "tjE9wHaUCuqt"
      },
      "execution_count": null,
      "outputs": []
    },
    {
      "cell_type": "code",
      "source": [
        "\n",
        "#Realice un programa que contengan funciones de los tres tipos de triángulos.\n",
        "#Los mismos deben estar acompañados de los mensajes respecto a la función decoradora.\n",
        "#Para mejorarlo pueden agregar los nombres de cada función según los triángulos"
      ],
      "metadata": {
        "id": "hFR8Uag-rr3m"
      },
      "execution_count": null,
      "outputs": []
    },
    {
      "cell_type": "code",
      "source": [
        "def equilatero(l1):\n",
        "    area = (3 ** 0.5 / 4) * l1 ** 2\n",
        "    print(f\"El área del triángulo equilátero es: {area}\")\n",
        "\n",
        "\n",
        "def escaleno(l1,l2,l3):\n",
        "\n",
        "    semiperimetro = (l1 + l2 + l3) / 2\n",
        "    area = (semiperimetro * (semiperimetro - l1) * (semiperimetro - l2) * (semiperimetro - l3)) ** 0.5\n",
        "    print(f\"El área del triángulo escaleno es: {area}\")\n",
        "\n",
        "\n",
        "\n",
        "def isoceles(l1,l2,l3):\n",
        "    base=min(l1,l2,l3)\n",
        "    altura=max(l1,l2,l3)\n",
        "    area=(base*altura)/2\n",
        "    print(f'El área del triángulo Isoceles es: {area}')\n",
        "\n",
        "\n",
        "def triangulo(a,b,c):\n",
        "  #La funcion define si un triangulo es Equilatero, Escaleno o Isoceles\n",
        "  if a != b !=c !=a:\n",
        "    print(f'El Triangulo Ingresado es un Escaleno')\n",
        "    escaleno(a,b,c)\n",
        "    print(\"---------------------------------------\")\n",
        "  elif a == b == c:\n",
        "    print(f'El Triangulo Ingresado es un  Equilatero')\n",
        "    equilatero(a)\n",
        "    print(\"---------------------------------------\")\n",
        "\n",
        "  else:\n",
        "    print(f'El Triangulo Ingresado es un  Isoceles')\n",
        "    isoceles(a,b,c)\n",
        "    print(\"---------------------------------------\")\n"
      ],
      "metadata": {
        "id": "Xvgly1_xx21Y"
      },
      "execution_count": null,
      "outputs": []
    },
    {
      "cell_type": "code",
      "source": [
        "triangulo(2,3,4)\n",
        "triangulo(4,3,2)\n",
        "triangulo(2,4,3)\n",
        "triangulo(10,10,10)\n",
        "triangulo(3,3,1)\n",
        "triangulo(1,3,3)\n",
        "triangulo(3,1,3)"
      ],
      "metadata": {
        "colab": {
          "base_uri": "https://localhost:8080/"
        },
        "id": "nHfIbYILyrhq",
        "outputId": "54ad2b14-45e4-4836-8492-a1b635bf83f8"
      },
      "execution_count": null,
      "outputs": [
        {
          "output_type": "stream",
          "name": "stdout",
          "text": [
            "El Triangulo Ingresado es un Escaleno\n",
            "El área del triángulo escaleno es: 2.9047375096555625\n",
            "---------------------------------------\n",
            "El Triangulo Ingresado es un Escaleno\n",
            "El área del triángulo escaleno es: 2.9047375096555625\n",
            "---------------------------------------\n",
            "El Triangulo Ingresado es un Escaleno\n",
            "El área del triángulo escaleno es: 2.9047375096555625\n",
            "---------------------------------------\n",
            "El Triangulo Ingresado es un  Equilatero\n",
            "El área del triángulo equilátero es: 43.30127018922193\n",
            "---------------------------------------\n",
            "El Triangulo Ingresado es un  Isoceles\n",
            "El área del triángulo Isoceles es: 1.5\n",
            "---------------------------------------\n",
            "El Triangulo Ingresado es un  Isoceles\n",
            "El área del triángulo Isoceles es: 1.5\n",
            "---------------------------------------\n",
            "El Triangulo Ingresado es un  Isoceles\n",
            "El área del triángulo Isoceles es: 1.5\n",
            "---------------------------------------\n"
          ]
        }
      ]
    },
    {
      "cell_type": "code",
      "source": [
        "#Realizar un programa de funciones que contengan funciones con bucles y control de flujo fuera de la función decoradora.\n",
        "#Al menos se deben tener dos condicionales o bucles"
      ],
      "metadata": {
        "id": "520iE72iCv_b"
      },
      "execution_count": null,
      "outputs": []
    },
    {
      "cell_type": "code",
      "source": [
        "#Escribir una función que calcule el total de una factura tras aplicarle el IVA.\n",
        "#La función debe recibir la cantidad sin IVA y el porcentaje de IVA a aplicar, y\n",
        "#devolver el total de la factura. Si se invoca la función sin pasarle el porcentaje de IVA, deberá aplicar un 21%.\n",
        "def total_factura(neto,iva=21 ):\n",
        "  print (f'El total de la factura es : ${neto*(1+(iva/100))}')\n",
        "  return (neto*(1+(iva/100)))\n",
        "\n",
        "\n",
        "#PROBANDO SIN PARAMETRO IVA\n",
        "total_factura(1000)\n",
        "#PROBANDO CON PARAMETRO IVA 10,5\n",
        "total_factura(1000,10.5)"
      ],
      "metadata": {
        "colab": {
          "base_uri": "https://localhost:8080/"
        },
        "id": "i5F9Z52sLb29",
        "outputId": "c5e1e043-2f54-4e40-f070-b7e1ca36d1dd"
      },
      "execution_count": null,
      "outputs": [
        {
          "output_type": "stream",
          "name": "stdout",
          "text": [
            "El total de la factura es : $1210.0\n",
            "El total de la factura es : $1105.0\n"
          ]
        },
        {
          "output_type": "execute_result",
          "data": {
            "text/plain": [
              "1105.0"
            ]
          },
          "metadata": {},
          "execution_count": 32
        }
      ]
    },
    {
      "cell_type": "code",
      "source": [],
      "metadata": {
        "id": "Ngl9U99PTgsF"
      },
      "execution_count": null,
      "outputs": []
    },
    {
      "cell_type": "markdown",
      "source": [
        "\n",
        "Escribir una función que convierta un número decimal en los otros dos sistemas: Binario y Hexadecimal. Mostrar mensajes pertenecientes a cada función.\n"
      ],
      "metadata": {
        "id": "zH8yr10KThEe"
      }
    },
    {
      "cell_type": "code",
      "source": [
        "def convertor(numero, sistema):\n",
        "    if sistema.lower() == \"binario\":\n",
        "        binario = []\n",
        "        while numero >= 1:\n",
        "            resto = numero % 2\n",
        "            binario.append(str(resto))\n",
        "            numero = numero // 2\n",
        "        binario.reverse()  # Invertir la lista de dígitos binarios\n",
        "        numero_binario = \"\".join(binario)\n",
        "        return numero_binario\n",
        "    if sistema.lower() == \"hexagesimal\":\n",
        "        hexagesimal = []\n",
        "        while numero >= 1:\n",
        "            resto = numero % 16\n",
        "            if resto < 10:\n",
        "                hexagesimal.append(str(resto))\n",
        "            else:\n",
        "                letra = chr(resto + 55)  # Convertir dígitos > 9 a letras hexadecimales\n",
        "                hexagesimal.append(letra)\n",
        "            numero = numero // 16\n",
        "        hexagesimal.reverse()  # Invertir la lista de dígitos hexadecimales\n",
        "        numero_hexagesimal = \"\".join(hexagesimal)\n",
        "        return numero_hexagesimal\n",
        "    return None  # Devolvemos None si el sistema no es binario ni hexadecimal\n",
        "\n",
        "\n",
        "\n",
        "\n",
        "\n",
        "\n"
      ],
      "metadata": {
        "id": "HGXivfYVToNe"
      },
      "execution_count": 23,
      "outputs": []
    },
    {
      "cell_type": "code",
      "source": [
        "print(convertor(2, \"binario\"))\n",
        "print(convertor(10, \"Binario\"))\n",
        "print(convertor(11, \"bINario\"))\n",
        "print(convertor(99999, \"binario\"))\n",
        "print(convertor(6, \"BINARI0000O\"))"
      ],
      "metadata": {
        "colab": {
          "base_uri": "https://localhost:8080/"
        },
        "id": "d5eeXo2ZdkqZ",
        "outputId": "e9579935-e6d9-4941-8140-d9c8274ecdb3"
      },
      "execution_count": 29,
      "outputs": [
        {
          "output_type": "stream",
          "name": "stdout",
          "text": [
            "10\n",
            "1010\n",
            "1011\n",
            "11000011010011111\n",
            "None\n"
          ]
        }
      ]
    },
    {
      "cell_type": "code",
      "source": [
        "print(convertor(2, \"hexagesimal\"))\n",
        "print(convertor(10, \"hexagesimal\"))\n",
        "print(convertor(16, \"hexagesimal\"))\n",
        "print(convertor(17, \"hexagesimal\"))\n",
        "print(convertor(1000, \"hexagesimal\"))"
      ],
      "metadata": {
        "colab": {
          "base_uri": "https://localhost:8080/"
        },
        "id": "g9X_2NbZj3tS",
        "outputId": "a7b64ef7-6ff2-4165-ab9c-11afa5cfa395"
      },
      "execution_count": 28,
      "outputs": [
        {
          "output_type": "stream",
          "name": "stdout",
          "text": [
            "2\n",
            "A\n",
            "10\n",
            "11\n",
            "3E8\n"
          ]
        }
      ]
    }
  ]
}